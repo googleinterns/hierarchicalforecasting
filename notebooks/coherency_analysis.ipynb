{
 "metadata": {
  "language_info": {
   "codemirror_mode": {
    "name": "ipython",
    "version": 3
   },
   "file_extension": ".py",
   "mimetype": "text/x-python",
   "name": "python",
   "nbconvert_exporter": "python",
   "pygments_lexer": "ipython3",
   "version": "3.8.6"
  },
  "orig_nbformat": 2,
  "kernelspec": {
   "name": "python38664bittfcondad1a01ac9327a4d08a9c9ba5e1dcdd174",
   "display_name": "Python 3.8.6 64-bit ('tf': conda)"
  },
  "metadata": {
   "interpreter": {
    "hash": "20dc7271c8d0c4665f3c7f938fe22a4df6f368be73aeaaa0b201719f521da504"
   }
  }
 },
 "nbformat": 4,
 "nbformat_minor": 2,
 "cells": [
  {
   "cell_type": "code",
   "execution_count": 17,
   "metadata": {},
   "outputs": [],
   "source": [
    "import os\n",
    "import sys\n",
    "sys.path.append('/zfsauton3/home/bparia/hf_moe/')\n",
    "\n",
    "import numpy as np\n",
    "import matplotlib.pyplot as plt\n",
    "import seaborn as sns\n",
    "import pandas as pd\n",
    "import pickle\n",
    "from tabulate import tabulate"
   ]
  },
  {
   "cell_type": "code",
   "execution_count": 83,
   "metadata": {},
   "outputs": [],
   "source": [
    "with open('../data/m5/data.pkl', 'rb') as fin:\n",
    "    tree, ts_data, \\\n",
    "        (global_cont_feats, global_cat_feats, global_cat_dims) \\\n",
    "            = pickle.load(fin)\n",
    "\n",
    "leaf_mat = tree.leaf_matrix\n",
    "num_leaf = np.sum(leaf_mat, axis=1, keepdims=True)\n",
    "cmat = leaf_mat / num_leaf"
   ]
  },
  {
   "cell_type": "code",
   "execution_count": 88,
   "metadata": {},
   "outputs": [],
   "source": [
    "def get_cerror(path):\n",
    "    levels = tree.levels\n",
    "    with open(path, 'rb') as fin:\n",
    "        pred, _ = pickle.load(fin)\n",
    "    \n",
    "    cpred = pred @ cmat.T\n",
    "\n",
    "    errs = []\n",
    "    for d in levels:\n",
    "        sub_pred = pred[:, levels[d]]\n",
    "        sub_cpred = cpred[:, levels[d]]\n",
    "        diff = np.mean(np.abs(sub_cpred - sub_pred)) / np.mean(np.abs(sub_cpred))\n",
    "        errs.append(diff)\n",
    "    \n",
    "    return errs\n",
    "\n",
    "def get_average(model):\n",
    "    errs = []\n",
    "    for i in range(1, 11):\n",
    "        path = os.path.join('../logs/', model, f'run_{i}', 'test.pkl')\n",
    "        err = get_cerror(path)\n",
    "        errs.append(err)\n",
    "    \n",
    "    errs = np.asarray(errs)\n",
    "    errs = np.mean(errs, axis=0)\n",
    "    print(errs)"
   ]
  },
  {
   "cell_type": "code",
   "execution_count": 82,
   "metadata": {},
   "outputs": [
    {
     "output_type": "stream",
     "name": "stdout",
     "text": [
      "[0.0355816  0.03990585 0.04061769 0.        ]\n",
      "[0.03834413 0.04409121 0.04534195 0.        ]\n",
      "[0.04305472 0.04473148 0.04209769 0.        ]\n"
     ]
    }
   ],
   "source": [
    "get_average('favorita/hid_20_exp_8_reg_norm/')\n",
    "get_average('favorita/hid_20_exp_8_norm/')\n",
    "get_average('favorita/hid_64_exp_1_norm/')"
   ]
  },
  {
   "cell_type": "code",
   "execution_count": 70,
   "metadata": {},
   "outputs": [
    {
     "output_type": "stream",
     "name": "stdout",
     "text": [
      "[0.10895054 0.10223943 0.08093576 0.07677878 0.        ]\n[0.08818724 0.08239052 0.07711098 0.07855723 0.        ]\n"
     ]
    }
   ],
   "source": [
    "get_average('tourism/hid_10_exp_4_reg_norm/')\n",
    "get_average('tourism/hid_30_exp_1_norm/')\n"
   ]
  },
  {
   "cell_type": "code",
   "execution_count": 89,
   "metadata": {},
   "outputs": [
    {
     "output_type": "stream",
     "name": "stdout",
     "text": [
      "[0.02489813 0.02959804 0.03232974 0.        ]\n",
      "[0.03216533 0.03302003 0.03686976 0.        ]\n",
      "[0.04243737 0.05721546 0.04739717 0.        ]\n"
     ]
    }
   ],
   "source": [
    "get_average('m5/hid_20_exp_8_reg_norm/')\n",
    "get_average('m5/hid_20_exp_8_norm/')\n",
    "get_average('m5/hid_64_exp_1_norm/')"
   ]
  }
 ]
}