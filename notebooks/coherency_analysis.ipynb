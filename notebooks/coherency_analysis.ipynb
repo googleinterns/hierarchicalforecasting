{
 "metadata": {
  "language_info": {
   "codemirror_mode": {
    "name": "ipython",
    "version": 3
   },
   "file_extension": ".py",
   "mimetype": "text/x-python",
   "name": "python",
   "nbconvert_exporter": "python",
   "pygments_lexer": "ipython3",
   "version": "3.8.6"
  },
  "orig_nbformat": 2,
  "kernelspec": {
   "name": "python3",
   "display_name": "Python 3.8.6 64-bit ('tf': conda)"
  },
  "metadata": {
   "interpreter": {
    "hash": "20dc7271c8d0c4665f3c7f938fe22a4df6f368be73aeaaa0b201719f521da504"
   }
  },
  "interpreter": {
   "hash": "20dc7271c8d0c4665f3c7f938fe22a4df6f368be73aeaaa0b201719f521da504"
  }
 },
 "nbformat": 4,
 "nbformat_minor": 2,
 "cells": [
  {
   "cell_type": "code",
   "execution_count": 1,
   "source": [
    "import os\n",
    "import sys\n",
    "sys.path.append('/zfsauton3/home/bparia/hf_moe/')\n",
    "\n",
    "import numpy as np\n",
    "import matplotlib.pyplot as plt\n",
    "import seaborn as sns\n",
    "import pandas as pd\n",
    "import pickle\n",
    "from tabulate import tabulate"
   ],
   "outputs": [],
   "metadata": {}
  },
  {
   "cell_type": "code",
   "execution_count": 14,
   "source": [
    "with open('../data/m5/data.pkl', 'rb') as fin:\n",
    "    tree, ts_data, \\\n",
    "        (global_cont_feats, global_cat_feats, global_cat_dims) \\\n",
    "            = pickle.load(fin)\n",
    "\n",
    "leaf_mat = tree.leaf_matrix\n",
    "num_leaf = np.sum(leaf_mat, axis=1, keepdims=True)\n",
    "cmat = leaf_mat / num_leaf"
   ],
   "outputs": [],
   "metadata": {}
  },
  {
   "cell_type": "code",
   "execution_count": 12,
   "source": [
    "def get_cerror(path):\n",
    "    levels = tree.levels\n",
    "    with open(path, 'rb') as fin:\n",
    "        pred, _ = pickle.load(fin)\n",
    "    \n",
    "    cpred = pred @ cmat.T\n",
    "\n",
    "    errs = []\n",
    "    for d in levels:\n",
    "        sub_pred = pred[:, levels[d]]\n",
    "        sub_cpred = cpred[:, levels[d]]\n",
    "        diff = np.mean(np.abs(sub_cpred - sub_pred)) / np.mean(np.abs(sub_cpred))\n",
    "        errs.append(diff)\n",
    "    \n",
    "    return errs\n",
    "\n",
    "def get_average(model):\n",
    "    errs = []\n",
    "    for i in range(1, 11):\n",
    "        path = os.path.join('../logs/', model, f'run_{i}', 'test.pkl')\n",
    "        err = get_cerror(path)\n",
    "        errs.append(err)\n",
    "    \n",
    "    errs = np.asarray(errs)\n",
    "    errs = np.mean(errs, axis=0)\n",
    "    print(errs)"
   ],
   "outputs": [],
   "metadata": {}
  },
  {
   "cell_type": "code",
   "execution_count": 5,
   "source": [
    "get_average('favorita/hid_24_emb_8_timear/')\n",
    "get_average('favorita/hid_24_emb_8_timear_noreg/')\n",
    "get_average('favorita/hid_64_exp_1_norm/')"
   ],
   "outputs": [
    {
     "output_type": "stream",
     "name": "stdout",
     "text": [
      "[0.00486112 0.00468465 0.00376906 0.        ]\n",
      "[0.01218486 0.01349842 0.0101119  0.        ]\n",
      "[0.04305472 0.04473148 0.04209769 0.        ]\n"
     ]
    }
   ],
   "metadata": {}
  },
  {
   "cell_type": "code",
   "execution_count": 11,
   "source": [
    "get_average('tourism/hid_14_emb_6_timear/')\n",
    "get_average('tourism/hid_14_emb_6_timear_noreg/')\n",
    "get_average('tourism/hid_30_exp_1_norm/')\n"
   ],
   "outputs": [
    {
     "output_type": "stream",
     "name": "stdout",
     "text": [
      "[0.09205788 0.07953036 0.06617345 0.06046085 0.        ]\n",
      "[0.08513087 0.08244395 0.06709635 0.05924147 0.        ]\n",
      "[0.09731197 0.0894319  0.08230363 0.08307251 0.        ]\n"
     ]
    }
   ],
   "metadata": {}
  },
  {
   "cell_type": "code",
   "execution_count": 15,
   "source": [
    "get_average('m5/hid_42_emb_8_timear/')\n",
    "get_average('m5/hid_42_emb_8_timear_noreg/')\n",
    "get_average('m5/hid_64_exp_1_norm/')"
   ],
   "outputs": [
    {
     "output_type": "stream",
     "name": "stdout",
     "text": [
      "[0.03165883 0.03390127 0.03432445 0.        ]\n",
      "[0.03486171 0.03793999 0.03908627 0.        ]\n",
      "[0.05221183 0.08916584 0.06242532 0.        ]\n"
     ]
    }
   ],
   "metadata": {}
  }
 ]
}