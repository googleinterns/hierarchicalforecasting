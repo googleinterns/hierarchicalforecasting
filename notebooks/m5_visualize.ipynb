{
 "cells": [
  {
   "cell_type": "code",
   "execution_count": 45,
   "metadata": {},
   "outputs": [],
   "source": [
    "import numpy as np\n",
    "import pandas as p\n",
    "import math\n",
    "from sklearn.preprocessing import OneHotEncoder"
   ]
  },
  {
   "cell_type": "code",
   "execution_count": 3,
   "metadata": {},
   "outputs": [],
   "source": [
    "file_path = '../data/m5/sales_train_evaluation.csv'\n",
    "with open(file_path, 'r') as fin:\n",
    "    sales_data = pd.read_csv(fin, ',')"
   ]
  },
  {
   "cell_type": "code",
   "execution_count": 5,
   "metadata": {},
   "outputs": [
    {
     "output_type": "stream",
     "name": "stdout",
     "text": "HOBBIES_1_001_CA_1_evaluation\n"
    }
   ],
   "source": [
    "for item in sales_data.itertuples():\n",
    "    print(item[1])\n",
    "    break"
   ]
  },
  {
   "cell_type": "code",
   "execution_count": 33,
   "metadata": {},
   "outputs": [
    {
     "output_type": "execute_result",
     "data": {
      "text/plain": "                                  id        item_id    dept_id   cat_id  \\\n0      HOBBIES_1_001_CA_1_evaluation  HOBBIES_1_001  HOBBIES_1  HOBBIES   \n1      HOBBIES_1_002_CA_1_evaluation  HOBBIES_1_002  HOBBIES_1  HOBBIES   \n2      HOBBIES_1_003_CA_1_evaluation  HOBBIES_1_003  HOBBIES_1  HOBBIES   \n3      HOBBIES_1_004_CA_1_evaluation  HOBBIES_1_004  HOBBIES_1  HOBBIES   \n4      HOBBIES_1_005_CA_1_evaluation  HOBBIES_1_005  HOBBIES_1  HOBBIES   \n...                              ...            ...        ...      ...   \n30485    FOODS_3_823_WI_3_evaluation    FOODS_3_823    FOODS_3    FOODS   \n30486    FOODS_3_824_WI_3_evaluation    FOODS_3_824    FOODS_3    FOODS   \n30487    FOODS_3_825_WI_3_evaluation    FOODS_3_825    FOODS_3    FOODS   \n30488    FOODS_3_826_WI_3_evaluation    FOODS_3_826    FOODS_3    FOODS   \n30489    FOODS_3_827_WI_3_evaluation    FOODS_3_827    FOODS_3    FOODS   \n\n      store_id state_id  d_1  d_2  d_3  d_4  ...  d_1932  d_1933  d_1934  \\\n0         CA_1       CA    0    0    0    0  ...       2       4       0   \n1         CA_1       CA    0    0    0    0  ...       0       1       2   \n2         CA_1       CA    0    0    0    0  ...       1       0       2   \n3         CA_1       CA    0    0    0    0  ...       1       1       0   \n4         CA_1       CA    0    0    0    0  ...       0       0       0   \n...        ...      ...  ...  ...  ...  ...  ...     ...     ...     ...   \n30485     WI_3       WI    0    0    2    2  ...       1       0       3   \n30486     WI_3       WI    0    0    0    0  ...       0       0       0   \n30487     WI_3       WI    0    6    0    2  ...       0       0       1   \n30488     WI_3       WI    0    0    0    0  ...       1       1       1   \n30489     WI_3       WI    0    0    0    0  ...       1       2       0   \n\n       d_1935  d_1936  d_1937  d_1938  d_1939  d_1940  d_1941  \n0           0       0       0       3       3       0       1  \n1           1       1       0       0       0       0       0  \n2           0       0       0       2       3       0       1  \n3           4       0       1       3       0       2       6  \n4           2       1       0       0       2       1       0  \n...       ...     ...     ...     ...     ...     ...     ...  \n30485       0       1       1       0       0       1       1  \n30486       0       0       0       1       0       1       0  \n30487       2       0       1       0       1       0       2  \n30488       4       6       0       1       1       1       0  \n30489       5       4       0       2       2       5       1  \n\n[30490 rows x 1947 columns]",
      "text/html": "<div>\n<style scoped>\n    .dataframe tbody tr th:only-of-type {\n        vertical-align: middle;\n    }\n\n    .dataframe tbody tr th {\n        vertical-align: top;\n    }\n\n    .dataframe thead th {\n        text-align: right;\n    }\n</style>\n<table border=\"1\" class=\"dataframe\">\n  <thead>\n    <tr style=\"text-align: right;\">\n      <th></th>\n      <th>id</th>\n      <th>item_id</th>\n      <th>dept_id</th>\n      <th>cat_id</th>\n      <th>store_id</th>\n      <th>state_id</th>\n      <th>d_1</th>\n      <th>d_2</th>\n      <th>d_3</th>\n      <th>d_4</th>\n      <th>...</th>\n      <th>d_1932</th>\n      <th>d_1933</th>\n      <th>d_1934</th>\n      <th>d_1935</th>\n      <th>d_1936</th>\n      <th>d_1937</th>\n      <th>d_1938</th>\n      <th>d_1939</th>\n      <th>d_1940</th>\n      <th>d_1941</th>\n    </tr>\n  </thead>\n  <tbody>\n    <tr>\n      <th>0</th>\n      <td>HOBBIES_1_001_CA_1_evaluation</td>\n      <td>HOBBIES_1_001</td>\n      <td>HOBBIES_1</td>\n      <td>HOBBIES</td>\n      <td>CA_1</td>\n      <td>CA</td>\n      <td>0</td>\n      <td>0</td>\n      <td>0</td>\n      <td>0</td>\n      <td>...</td>\n      <td>2</td>\n      <td>4</td>\n      <td>0</td>\n      <td>0</td>\n      <td>0</td>\n      <td>0</td>\n      <td>3</td>\n      <td>3</td>\n      <td>0</td>\n      <td>1</td>\n    </tr>\n    <tr>\n      <th>1</th>\n      <td>HOBBIES_1_002_CA_1_evaluation</td>\n      <td>HOBBIES_1_002</td>\n      <td>HOBBIES_1</td>\n      <td>HOBBIES</td>\n      <td>CA_1</td>\n      <td>CA</td>\n      <td>0</td>\n      <td>0</td>\n      <td>0</td>\n      <td>0</td>\n      <td>...</td>\n      <td>0</td>\n      <td>1</td>\n      <td>2</td>\n      <td>1</td>\n      <td>1</td>\n      <td>0</td>\n      <td>0</td>\n      <td>0</td>\n      <td>0</td>\n      <td>0</td>\n    </tr>\n    <tr>\n      <th>2</th>\n      <td>HOBBIES_1_003_CA_1_evaluation</td>\n      <td>HOBBIES_1_003</td>\n      <td>HOBBIES_1</td>\n      <td>HOBBIES</td>\n      <td>CA_1</td>\n      <td>CA</td>\n      <td>0</td>\n      <td>0</td>\n      <td>0</td>\n      <td>0</td>\n      <td>...</td>\n      <td>1</td>\n      <td>0</td>\n      <td>2</td>\n      <td>0</td>\n      <td>0</td>\n      <td>0</td>\n      <td>2</td>\n      <td>3</td>\n      <td>0</td>\n      <td>1</td>\n    </tr>\n    <tr>\n      <th>3</th>\n      <td>HOBBIES_1_004_CA_1_evaluation</td>\n      <td>HOBBIES_1_004</td>\n      <td>HOBBIES_1</td>\n      <td>HOBBIES</td>\n      <td>CA_1</td>\n      <td>CA</td>\n      <td>0</td>\n      <td>0</td>\n      <td>0</td>\n      <td>0</td>\n      <td>...</td>\n      <td>1</td>\n      <td>1</td>\n      <td>0</td>\n      <td>4</td>\n      <td>0</td>\n      <td>1</td>\n      <td>3</td>\n      <td>0</td>\n      <td>2</td>\n      <td>6</td>\n    </tr>\n    <tr>\n      <th>4</th>\n      <td>HOBBIES_1_005_CA_1_evaluation</td>\n      <td>HOBBIES_1_005</td>\n      <td>HOBBIES_1</td>\n      <td>HOBBIES</td>\n      <td>CA_1</td>\n      <td>CA</td>\n      <td>0</td>\n      <td>0</td>\n      <td>0</td>\n      <td>0</td>\n      <td>...</td>\n      <td>0</td>\n      <td>0</td>\n      <td>0</td>\n      <td>2</td>\n      <td>1</td>\n      <td>0</td>\n      <td>0</td>\n      <td>2</td>\n      <td>1</td>\n      <td>0</td>\n    </tr>\n    <tr>\n      <th>...</th>\n      <td>...</td>\n      <td>...</td>\n      <td>...</td>\n      <td>...</td>\n      <td>...</td>\n      <td>...</td>\n      <td>...</td>\n      <td>...</td>\n      <td>...</td>\n      <td>...</td>\n      <td>...</td>\n      <td>...</td>\n      <td>...</td>\n      <td>...</td>\n      <td>...</td>\n      <td>...</td>\n      <td>...</td>\n      <td>...</td>\n      <td>...</td>\n      <td>...</td>\n      <td>...</td>\n    </tr>\n    <tr>\n      <th>30485</th>\n      <td>FOODS_3_823_WI_3_evaluation</td>\n      <td>FOODS_3_823</td>\n      <td>FOODS_3</td>\n      <td>FOODS</td>\n      <td>WI_3</td>\n      <td>WI</td>\n      <td>0</td>\n      <td>0</td>\n      <td>2</td>\n      <td>2</td>\n      <td>...</td>\n      <td>1</td>\n      <td>0</td>\n      <td>3</td>\n      <td>0</td>\n      <td>1</td>\n      <td>1</td>\n      <td>0</td>\n      <td>0</td>\n      <td>1</td>\n      <td>1</td>\n    </tr>\n    <tr>\n      <th>30486</th>\n      <td>FOODS_3_824_WI_3_evaluation</td>\n      <td>FOODS_3_824</td>\n      <td>FOODS_3</td>\n      <td>FOODS</td>\n      <td>WI_3</td>\n      <td>WI</td>\n      <td>0</td>\n      <td>0</td>\n      <td>0</td>\n      <td>0</td>\n      <td>...</td>\n      <td>0</td>\n      <td>0</td>\n      <td>0</td>\n      <td>0</td>\n      <td>0</td>\n      <td>0</td>\n      <td>1</td>\n      <td>0</td>\n      <td>1</td>\n      <td>0</td>\n    </tr>\n    <tr>\n      <th>30487</th>\n      <td>FOODS_3_825_WI_3_evaluation</td>\n      <td>FOODS_3_825</td>\n      <td>FOODS_3</td>\n      <td>FOODS</td>\n      <td>WI_3</td>\n      <td>WI</td>\n      <td>0</td>\n      <td>6</td>\n      <td>0</td>\n      <td>2</td>\n      <td>...</td>\n      <td>0</td>\n      <td>0</td>\n      <td>1</td>\n      <td>2</td>\n      <td>0</td>\n      <td>1</td>\n      <td>0</td>\n      <td>1</td>\n      <td>0</td>\n      <td>2</td>\n    </tr>\n    <tr>\n      <th>30488</th>\n      <td>FOODS_3_826_WI_3_evaluation</td>\n      <td>FOODS_3_826</td>\n      <td>FOODS_3</td>\n      <td>FOODS</td>\n      <td>WI_3</td>\n      <td>WI</td>\n      <td>0</td>\n      <td>0</td>\n      <td>0</td>\n      <td>0</td>\n      <td>...</td>\n      <td>1</td>\n      <td>1</td>\n      <td>1</td>\n      <td>4</td>\n      <td>6</td>\n      <td>0</td>\n      <td>1</td>\n      <td>1</td>\n      <td>1</td>\n      <td>0</td>\n    </tr>\n    <tr>\n      <th>30489</th>\n      <td>FOODS_3_827_WI_3_evaluation</td>\n      <td>FOODS_3_827</td>\n      <td>FOODS_3</td>\n      <td>FOODS</td>\n      <td>WI_3</td>\n      <td>WI</td>\n      <td>0</td>\n      <td>0</td>\n      <td>0</td>\n      <td>0</td>\n      <td>...</td>\n      <td>1</td>\n      <td>2</td>\n      <td>0</td>\n      <td>5</td>\n      <td>4</td>\n      <td>0</td>\n      <td>2</td>\n      <td>2</td>\n      <td>5</td>\n      <td>1</td>\n    </tr>\n  </tbody>\n</table>\n<p>30490 rows × 1947 columns</p>\n</div>"
     },
     "metadata": {},
     "execution_count": 33
    }
   ],
   "source": [
    "sales_data"
   ]
  },
  {
   "cell_type": "code",
   "execution_count": 7,
   "metadata": {},
   "outputs": [],
   "source": [
    "features_path = '../data/m5/calendar.csv'\n",
    "with open(features_path, 'r') as fin:\n",
    "    features = pd.read_csv(features_path, ',')"
   ]
  },
  {
   "cell_type": "code",
   "execution_count": 15,
   "metadata": {},
   "outputs": [
    {
     "output_type": "execute_result",
     "data": {
      "text/plain": "array([[1, 1, 0, 0, 0],\n       [2, 1, 0, 0, 0],\n       [3, 1, 0, 0, 0],\n       ...,\n       [7, 5, 0, 0, 0],\n       [1, 5, 0, 0, 0],\n       [2, 5, 0, 0, 0]])"
     },
     "metadata": {},
     "execution_count": 15
    }
   ],
   "source": [
    "np.asarray(features[['wday', 'month', 'snap_CA', 'snap_TX', 'snap_WI']][:1941])"
   ]
  },
  {
   "cell_type": "code",
   "execution_count": 64,
   "metadata": {},
   "outputs": [
    {
     "output_type": "stream",
     "name": "stdout",
     "text": "[[0. 0. 0. 0.]\n [0. 0. 0. 0.]\n [0. 0. 0. 0.]\n [0. 0. 0. 0.]\n [0. 0. 0. 0.]\n [0. 0. 0. 0.]\n [0. 0. 0. 0.]\n [0. 0. 0. 0.]\n [1. 0. 0. 0.]\n [0. 0. 0. 0.]\n [0. 0. 0. 0.]\n [0. 0. 0. 0.]\n [0. 0. 0. 0.]\n [0. 0. 0. 0.]\n [0. 0. 0. 0.]\n [0. 0. 0. 0.]\n [0. 1. 0. 0.]\n [0. 0. 0. 0.]\n [0. 0. 0. 0.]\n [0. 0. 0. 0.]\n [0. 0. 0. 0.]\n [0. 0. 0. 0.]\n [0. 0. 0. 0.]\n [0. 0. 1. 0.]\n [0. 0. 0. 0.]\n [0. 0. 0. 0.]\n [0. 0. 0. 0.]\n [0. 0. 0. 0.]\n [0. 0. 0. 0.]\n [0. 0. 0. 0.]]\n"
    }
   ],
   "source": [
    "feats_2 = features['event_type_1'][:1941]\n",
    "cats = list(feats_2.unique())\n",
    "cats.remove(np.nan)\n",
    "\n",
    "feats_2 = [[''] if isinstance(f, float) else [f] for f in feats_2]\n",
    "enc = OneHotEncoder(categories=[cats,], handle_unknown='ignore', sparse=False)\n",
    "feats_2 = enc.fit_transform(feats_2)\n",
    "print(feats_2[:30])"
   ]
  },
  {
   "cell_type": "code",
   "execution_count": 61,
   "metadata": {},
   "outputs": [
    {
     "output_type": "execute_result",
     "data": {
      "text/plain": "            date  wm_yr_wk    weekday  wday  month  year       d  \\\n1939  2016-05-21     11617   Saturday     1      5  2016  d_1940   \n1940  2016-05-22     11617     Sunday     2      5  2016  d_1941   \n1941  2016-05-23     11617     Monday     3      5  2016  d_1942   \n1942  2016-05-24     11617    Tuesday     4      5  2016  d_1943   \n1943  2016-05-25     11617  Wednesday     5      5  2016  d_1944   \n1944  2016-05-26     11617   Thursday     6      5  2016  d_1945   \n1945  2016-05-27     11617     Friday     7      5  2016  d_1946   \n1946  2016-05-28     11618   Saturday     1      5  2016  d_1947   \n1947  2016-05-29     11618     Sunday     2      5  2016  d_1948   \n1948  2016-05-30     11618     Monday     3      5  2016  d_1949   \n1949  2016-05-31     11618    Tuesday     4      5  2016  d_1950   \n1950  2016-06-01     11618  Wednesday     5      6  2016  d_1951   \n1951  2016-06-02     11618   Thursday     6      6  2016  d_1952   \n1952  2016-06-03     11618     Friday     7      6  2016  d_1953   \n1953  2016-06-04     11619   Saturday     1      6  2016  d_1954   \n1954  2016-06-05     11619     Sunday     2      6  2016  d_1955   \n1955  2016-06-06     11619     Monday     3      6  2016  d_1956   \n1956  2016-06-07     11619    Tuesday     4      6  2016  d_1957   \n1957  2016-06-08     11619  Wednesday     5      6  2016  d_1958   \n1958  2016-06-09     11619   Thursday     6      6  2016  d_1959   \n1959  2016-06-10     11619     Friday     7      6  2016  d_1960   \n1960  2016-06-11     11620   Saturday     1      6  2016  d_1961   \n1961  2016-06-12     11620     Sunday     2      6  2016  d_1962   \n1962  2016-06-13     11620     Monday     3      6  2016  d_1963   \n1963  2016-06-14     11620    Tuesday     4      6  2016  d_1964   \n1964  2016-06-15     11620  Wednesday     5      6  2016  d_1965   \n1965  2016-06-16     11620   Thursday     6      6  2016  d_1966   \n1966  2016-06-17     11620     Friday     7      6  2016  d_1967   \n1967  2016-06-18     11621   Saturday     1      6  2016  d_1968   \n1968  2016-06-19     11621     Sunday     2      6  2016  d_1969   \n\n        event_name_1 event_type_1  event_name_2 event_type_2  snap_CA  \\\n1939             NaN          NaN           NaN          NaN        0   \n1940             NaN          NaN           NaN          NaN        0   \n1941             NaN          NaN           NaN          NaN        0   \n1942             NaN          NaN           NaN          NaN        0   \n1943             NaN          NaN           NaN          NaN        0   \n1944             NaN          NaN           NaN          NaN        0   \n1945             NaN          NaN           NaN          NaN        0   \n1946             NaN          NaN           NaN          NaN        0   \n1947             NaN          NaN           NaN          NaN        0   \n1948     MemorialDay     National           NaN          NaN        0   \n1949             NaN          NaN           NaN          NaN        0   \n1950             NaN          NaN           NaN          NaN        1   \n1951  NBAFinalsStart     Sporting           NaN          NaN        1   \n1952             NaN          NaN           NaN          NaN        1   \n1953             NaN          NaN           NaN          NaN        1   \n1954             NaN          NaN           NaN          NaN        1   \n1955             NaN          NaN           NaN          NaN        1   \n1956  Ramadan starts    Religious           NaN          NaN        1   \n1957             NaN          NaN           NaN          NaN        1   \n1958             NaN          NaN           NaN          NaN        1   \n1959             NaN          NaN           NaN          NaN        1   \n1960             NaN          NaN           NaN          NaN        0   \n1961             NaN          NaN           NaN          NaN        0   \n1962             NaN          NaN           NaN          NaN        0   \n1963             NaN          NaN           NaN          NaN        0   \n1964             NaN          NaN           NaN          NaN        0   \n1965             NaN          NaN           NaN          NaN        0   \n1966             NaN          NaN           NaN          NaN        0   \n1967             NaN          NaN           NaN          NaN        0   \n1968    NBAFinalsEnd     Sporting  Father's day     Cultural        0   \n\n      snap_TX  snap_WI  \n1939        0        0  \n1940        0        0  \n1941        0        0  \n1942        0        0  \n1943        0        0  \n1944        0        0  \n1945        0        0  \n1946        0        0  \n1947        0        0  \n1948        0        0  \n1949        0        0  \n1950        1        0  \n1951        0        1  \n1952        1        1  \n1953        0        0  \n1954        1        1  \n1955        1        1  \n1956        1        0  \n1957        0        1  \n1958        1        1  \n1959        0        0  \n1960        1        1  \n1961        1        1  \n1962        1        0  \n1963        0        1  \n1964        1        1  \n1965        0        0  \n1966        0        0  \n1967        0        0  \n1968        0        0  ",
      "text/html": "<div>\n<style scoped>\n    .dataframe tbody tr th:only-of-type {\n        vertical-align: middle;\n    }\n\n    .dataframe tbody tr th {\n        vertical-align: top;\n    }\n\n    .dataframe thead th {\n        text-align: right;\n    }\n</style>\n<table border=\"1\" class=\"dataframe\">\n  <thead>\n    <tr style=\"text-align: right;\">\n      <th></th>\n      <th>date</th>\n      <th>wm_yr_wk</th>\n      <th>weekday</th>\n      <th>wday</th>\n      <th>month</th>\n      <th>year</th>\n      <th>d</th>\n      <th>event_name_1</th>\n      <th>event_type_1</th>\n      <th>event_name_2</th>\n      <th>event_type_2</th>\n      <th>snap_CA</th>\n      <th>snap_TX</th>\n      <th>snap_WI</th>\n    </tr>\n  </thead>\n  <tbody>\n    <tr>\n      <th>1939</th>\n      <td>2016-05-21</td>\n      <td>11617</td>\n      <td>Saturday</td>\n      <td>1</td>\n      <td>5</td>\n      <td>2016</td>\n      <td>d_1940</td>\n      <td>NaN</td>\n      <td>NaN</td>\n      <td>NaN</td>\n      <td>NaN</td>\n      <td>0</td>\n      <td>0</td>\n      <td>0</td>\n    </tr>\n    <tr>\n      <th>1940</th>\n      <td>2016-05-22</td>\n      <td>11617</td>\n      <td>Sunday</td>\n      <td>2</td>\n      <td>5</td>\n      <td>2016</td>\n      <td>d_1941</td>\n      <td>NaN</td>\n      <td>NaN</td>\n      <td>NaN</td>\n      <td>NaN</td>\n      <td>0</td>\n      <td>0</td>\n      <td>0</td>\n    </tr>\n    <tr>\n      <th>1941</th>\n      <td>2016-05-23</td>\n      <td>11617</td>\n      <td>Monday</td>\n      <td>3</td>\n      <td>5</td>\n      <td>2016</td>\n      <td>d_1942</td>\n      <td>NaN</td>\n      <td>NaN</td>\n      <td>NaN</td>\n      <td>NaN</td>\n      <td>0</td>\n      <td>0</td>\n      <td>0</td>\n    </tr>\n    <tr>\n      <th>1942</th>\n      <td>2016-05-24</td>\n      <td>11617</td>\n      <td>Tuesday</td>\n      <td>4</td>\n      <td>5</td>\n      <td>2016</td>\n      <td>d_1943</td>\n      <td>NaN</td>\n      <td>NaN</td>\n      <td>NaN</td>\n      <td>NaN</td>\n      <td>0</td>\n      <td>0</td>\n      <td>0</td>\n    </tr>\n    <tr>\n      <th>1943</th>\n      <td>2016-05-25</td>\n      <td>11617</td>\n      <td>Wednesday</td>\n      <td>5</td>\n      <td>5</td>\n      <td>2016</td>\n      <td>d_1944</td>\n      <td>NaN</td>\n      <td>NaN</td>\n      <td>NaN</td>\n      <td>NaN</td>\n      <td>0</td>\n      <td>0</td>\n      <td>0</td>\n    </tr>\n    <tr>\n      <th>1944</th>\n      <td>2016-05-26</td>\n      <td>11617</td>\n      <td>Thursday</td>\n      <td>6</td>\n      <td>5</td>\n      <td>2016</td>\n      <td>d_1945</td>\n      <td>NaN</td>\n      <td>NaN</td>\n      <td>NaN</td>\n      <td>NaN</td>\n      <td>0</td>\n      <td>0</td>\n      <td>0</td>\n    </tr>\n    <tr>\n      <th>1945</th>\n      <td>2016-05-27</td>\n      <td>11617</td>\n      <td>Friday</td>\n      <td>7</td>\n      <td>5</td>\n      <td>2016</td>\n      <td>d_1946</td>\n      <td>NaN</td>\n      <td>NaN</td>\n      <td>NaN</td>\n      <td>NaN</td>\n      <td>0</td>\n      <td>0</td>\n      <td>0</td>\n    </tr>\n    <tr>\n      <th>1946</th>\n      <td>2016-05-28</td>\n      <td>11618</td>\n      <td>Saturday</td>\n      <td>1</td>\n      <td>5</td>\n      <td>2016</td>\n      <td>d_1947</td>\n      <td>NaN</td>\n      <td>NaN</td>\n      <td>NaN</td>\n      <td>NaN</td>\n      <td>0</td>\n      <td>0</td>\n      <td>0</td>\n    </tr>\n    <tr>\n      <th>1947</th>\n      <td>2016-05-29</td>\n      <td>11618</td>\n      <td>Sunday</td>\n      <td>2</td>\n      <td>5</td>\n      <td>2016</td>\n      <td>d_1948</td>\n      <td>NaN</td>\n      <td>NaN</td>\n      <td>NaN</td>\n      <td>NaN</td>\n      <td>0</td>\n      <td>0</td>\n      <td>0</td>\n    </tr>\n    <tr>\n      <th>1948</th>\n      <td>2016-05-30</td>\n      <td>11618</td>\n      <td>Monday</td>\n      <td>3</td>\n      <td>5</td>\n      <td>2016</td>\n      <td>d_1949</td>\n      <td>MemorialDay</td>\n      <td>National</td>\n      <td>NaN</td>\n      <td>NaN</td>\n      <td>0</td>\n      <td>0</td>\n      <td>0</td>\n    </tr>\n    <tr>\n      <th>1949</th>\n      <td>2016-05-31</td>\n      <td>11618</td>\n      <td>Tuesday</td>\n      <td>4</td>\n      <td>5</td>\n      <td>2016</td>\n      <td>d_1950</td>\n      <td>NaN</td>\n      <td>NaN</td>\n      <td>NaN</td>\n      <td>NaN</td>\n      <td>0</td>\n      <td>0</td>\n      <td>0</td>\n    </tr>\n    <tr>\n      <th>1950</th>\n      <td>2016-06-01</td>\n      <td>11618</td>\n      <td>Wednesday</td>\n      <td>5</td>\n      <td>6</td>\n      <td>2016</td>\n      <td>d_1951</td>\n      <td>NaN</td>\n      <td>NaN</td>\n      <td>NaN</td>\n      <td>NaN</td>\n      <td>1</td>\n      <td>1</td>\n      <td>0</td>\n    </tr>\n    <tr>\n      <th>1951</th>\n      <td>2016-06-02</td>\n      <td>11618</td>\n      <td>Thursday</td>\n      <td>6</td>\n      <td>6</td>\n      <td>2016</td>\n      <td>d_1952</td>\n      <td>NBAFinalsStart</td>\n      <td>Sporting</td>\n      <td>NaN</td>\n      <td>NaN</td>\n      <td>1</td>\n      <td>0</td>\n      <td>1</td>\n    </tr>\n    <tr>\n      <th>1952</th>\n      <td>2016-06-03</td>\n      <td>11618</td>\n      <td>Friday</td>\n      <td>7</td>\n      <td>6</td>\n      <td>2016</td>\n      <td>d_1953</td>\n      <td>NaN</td>\n      <td>NaN</td>\n      <td>NaN</td>\n      <td>NaN</td>\n      <td>1</td>\n      <td>1</td>\n      <td>1</td>\n    </tr>\n    <tr>\n      <th>1953</th>\n      <td>2016-06-04</td>\n      <td>11619</td>\n      <td>Saturday</td>\n      <td>1</td>\n      <td>6</td>\n      <td>2016</td>\n      <td>d_1954</td>\n      <td>NaN</td>\n      <td>NaN</td>\n      <td>NaN</td>\n      <td>NaN</td>\n      <td>1</td>\n      <td>0</td>\n      <td>0</td>\n    </tr>\n    <tr>\n      <th>1954</th>\n      <td>2016-06-05</td>\n      <td>11619</td>\n      <td>Sunday</td>\n      <td>2</td>\n      <td>6</td>\n      <td>2016</td>\n      <td>d_1955</td>\n      <td>NaN</td>\n      <td>NaN</td>\n      <td>NaN</td>\n      <td>NaN</td>\n      <td>1</td>\n      <td>1</td>\n      <td>1</td>\n    </tr>\n    <tr>\n      <th>1955</th>\n      <td>2016-06-06</td>\n      <td>11619</td>\n      <td>Monday</td>\n      <td>3</td>\n      <td>6</td>\n      <td>2016</td>\n      <td>d_1956</td>\n      <td>NaN</td>\n      <td>NaN</td>\n      <td>NaN</td>\n      <td>NaN</td>\n      <td>1</td>\n      <td>1</td>\n      <td>1</td>\n    </tr>\n    <tr>\n      <th>1956</th>\n      <td>2016-06-07</td>\n      <td>11619</td>\n      <td>Tuesday</td>\n      <td>4</td>\n      <td>6</td>\n      <td>2016</td>\n      <td>d_1957</td>\n      <td>Ramadan starts</td>\n      <td>Religious</td>\n      <td>NaN</td>\n      <td>NaN</td>\n      <td>1</td>\n      <td>1</td>\n      <td>0</td>\n    </tr>\n    <tr>\n      <th>1957</th>\n      <td>2016-06-08</td>\n      <td>11619</td>\n      <td>Wednesday</td>\n      <td>5</td>\n      <td>6</td>\n      <td>2016</td>\n      <td>d_1958</td>\n      <td>NaN</td>\n      <td>NaN</td>\n      <td>NaN</td>\n      <td>NaN</td>\n      <td>1</td>\n      <td>0</td>\n      <td>1</td>\n    </tr>\n    <tr>\n      <th>1958</th>\n      <td>2016-06-09</td>\n      <td>11619</td>\n      <td>Thursday</td>\n      <td>6</td>\n      <td>6</td>\n      <td>2016</td>\n      <td>d_1959</td>\n      <td>NaN</td>\n      <td>NaN</td>\n      <td>NaN</td>\n      <td>NaN</td>\n      <td>1</td>\n      <td>1</td>\n      <td>1</td>\n    </tr>\n    <tr>\n      <th>1959</th>\n      <td>2016-06-10</td>\n      <td>11619</td>\n      <td>Friday</td>\n      <td>7</td>\n      <td>6</td>\n      <td>2016</td>\n      <td>d_1960</td>\n      <td>NaN</td>\n      <td>NaN</td>\n      <td>NaN</td>\n      <td>NaN</td>\n      <td>1</td>\n      <td>0</td>\n      <td>0</td>\n    </tr>\n    <tr>\n      <th>1960</th>\n      <td>2016-06-11</td>\n      <td>11620</td>\n      <td>Saturday</td>\n      <td>1</td>\n      <td>6</td>\n      <td>2016</td>\n      <td>d_1961</td>\n      <td>NaN</td>\n      <td>NaN</td>\n      <td>NaN</td>\n      <td>NaN</td>\n      <td>0</td>\n      <td>1</td>\n      <td>1</td>\n    </tr>\n    <tr>\n      <th>1961</th>\n      <td>2016-06-12</td>\n      <td>11620</td>\n      <td>Sunday</td>\n      <td>2</td>\n      <td>6</td>\n      <td>2016</td>\n      <td>d_1962</td>\n      <td>NaN</td>\n      <td>NaN</td>\n      <td>NaN</td>\n      <td>NaN</td>\n      <td>0</td>\n      <td>1</td>\n      <td>1</td>\n    </tr>\n    <tr>\n      <th>1962</th>\n      <td>2016-06-13</td>\n      <td>11620</td>\n      <td>Monday</td>\n      <td>3</td>\n      <td>6</td>\n      <td>2016</td>\n      <td>d_1963</td>\n      <td>NaN</td>\n      <td>NaN</td>\n      <td>NaN</td>\n      <td>NaN</td>\n      <td>0</td>\n      <td>1</td>\n      <td>0</td>\n    </tr>\n    <tr>\n      <th>1963</th>\n      <td>2016-06-14</td>\n      <td>11620</td>\n      <td>Tuesday</td>\n      <td>4</td>\n      <td>6</td>\n      <td>2016</td>\n      <td>d_1964</td>\n      <td>NaN</td>\n      <td>NaN</td>\n      <td>NaN</td>\n      <td>NaN</td>\n      <td>0</td>\n      <td>0</td>\n      <td>1</td>\n    </tr>\n    <tr>\n      <th>1964</th>\n      <td>2016-06-15</td>\n      <td>11620</td>\n      <td>Wednesday</td>\n      <td>5</td>\n      <td>6</td>\n      <td>2016</td>\n      <td>d_1965</td>\n      <td>NaN</td>\n      <td>NaN</td>\n      <td>NaN</td>\n      <td>NaN</td>\n      <td>0</td>\n      <td>1</td>\n      <td>1</td>\n    </tr>\n    <tr>\n      <th>1965</th>\n      <td>2016-06-16</td>\n      <td>11620</td>\n      <td>Thursday</td>\n      <td>6</td>\n      <td>6</td>\n      <td>2016</td>\n      <td>d_1966</td>\n      <td>NaN</td>\n      <td>NaN</td>\n      <td>NaN</td>\n      <td>NaN</td>\n      <td>0</td>\n      <td>0</td>\n      <td>0</td>\n    </tr>\n    <tr>\n      <th>1966</th>\n      <td>2016-06-17</td>\n      <td>11620</td>\n      <td>Friday</td>\n      <td>7</td>\n      <td>6</td>\n      <td>2016</td>\n      <td>d_1967</td>\n      <td>NaN</td>\n      <td>NaN</td>\n      <td>NaN</td>\n      <td>NaN</td>\n      <td>0</td>\n      <td>0</td>\n      <td>0</td>\n    </tr>\n    <tr>\n      <th>1967</th>\n      <td>2016-06-18</td>\n      <td>11621</td>\n      <td>Saturday</td>\n      <td>1</td>\n      <td>6</td>\n      <td>2016</td>\n      <td>d_1968</td>\n      <td>NaN</td>\n      <td>NaN</td>\n      <td>NaN</td>\n      <td>NaN</td>\n      <td>0</td>\n      <td>0</td>\n      <td>0</td>\n    </tr>\n    <tr>\n      <th>1968</th>\n      <td>2016-06-19</td>\n      <td>11621</td>\n      <td>Sunday</td>\n      <td>2</td>\n      <td>6</td>\n      <td>2016</td>\n      <td>d_1969</td>\n      <td>NBAFinalsEnd</td>\n      <td>Sporting</td>\n      <td>Father's day</td>\n      <td>Cultural</td>\n      <td>0</td>\n      <td>0</td>\n      <td>0</td>\n    </tr>\n  </tbody>\n</table>\n</div>"
     },
     "metadata": {},
     "execution_count": 61
    }
   ],
   "source": [
    "features[features['event_type_1'] == 'Cultural']\n",
    "features.iloc[-30:]"
   ]
  }
 ],
 "metadata": {
  "language_info": {
   "codemirror_mode": {
    "name": "ipython",
    "version": 3
   },
   "file_extension": ".py",
   "mimetype": "text/x-python",
   "name": "python",
   "nbconvert_exporter": "python",
   "pygments_lexer": "ipython3",
   "version": "3.7.6-final"
  },
  "orig_nbformat": 2,
  "kernelspec": {
   "name": "python3",
   "display_name": "Python 3"
  }
 },
 "nbformat": 4,
 "nbformat_minor": 2
}