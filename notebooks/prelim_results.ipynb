{
 "metadata": {
  "language_info": {
   "codemirror_mode": {
    "name": "ipython",
    "version": 3
   },
   "file_extension": ".py",
   "mimetype": "text/x-python",
   "name": "python",
   "nbconvert_exporter": "python",
   "pygments_lexer": "ipython3",
   "version": "3.8.6-final"
  },
  "orig_nbformat": 2,
  "kernelspec": {
   "name": "python38664bittfcondad1a01ac9327a4d08a9c9ba5e1dcdd174",
   "display_name": "Python 3.8.6 64-bit ('tf': conda)",
   "language": "python"
  }
 },
 "nbformat": 4,
 "nbformat_minor": 2,
 "cells": [
  {
   "cell_type": "code",
   "execution_count": 2,
   "metadata": {},
   "outputs": [],
   "source": [
    "import numpy as np\n",
    "import matplotlib.pyplot as plt\n",
    "import seaborn as sns\n",
    "import pandas as pd\n",
    "import pickle\n",
    "from tabulate import tabulate"
   ]
  },
  {
   "cell_type": "code",
   "execution_count": 1,
   "metadata": {},
   "outputs": [],
   "source": [
    "def compute_ci(dfs):\n",
    "    def conc(x, y):\n",
    "        print(x)\n",
    "        return f'{x} +- {y}'\n",
    "\n",
    "    df = pd.concat(dfs)\n",
    "    mean = df.groupby(by='level').mean().applymap(lambda x: f'{x:.5f} +- ')\n",
    "    std = df.groupby(by='level').std().applymap(lambda x: f'{x / np.sqrt(10):.5f}')\n",
    "    return mean + std\n",
    "\n",
    "def print_stats(path):\n",
    "    val_metrics = []\n",
    "    test_metrics = []\n",
    "    for i in range(1, 11):\n",
    "        sub_path = os.path.join(path, f'run_{i}/metrics.pkl')\n",
    "        with open(sub_path, 'rb') as fin:\n",
    "            dic = pickle.load(fin)\n",
    "        val_metrics.append(dic['val'])\n",
    "        test_metrics.append(dic['test'])\n",
    "\n",
    "    print('### VAL')\n",
    "    print(tabulate(compute_ci(val_metrics), headers='keys', tablefmt='psql'))\n",
    "    print('### TEST')\n",
    "    print(tabulate(compute_ci(test_metrics), headers='keys', tablefmt='psql'))"
   ]
  },
  {
   "cell_type": "code",
   "execution_count": 3,
   "metadata": {},
   "outputs": [
    {
     "output_type": "stream",
     "name": "stdout",
     "text": [
      "### VAL\n+---------+--------------------+--------------------+--------------------+\n| level   | mape               | wape               | smape              |\n|---------+--------------------+--------------------+--------------------|\n| 0       | 0.04590 +- 0.00133 | 0.04665 +- 0.00130 | 0.04671 +- 0.00140 |\n| 1       | 0.05413 +- 0.00227 | 0.05067 +- 0.00175 | 0.05409 +- 0.00212 |\n| 2       | 0.06960 +- 0.00178 | 0.05938 +- 0.00138 | 0.06876 +- 0.00151 |\n| 3       | 0.45529 +- 0.00075 | 0.29409 +- 0.00139 | 0.53064 +- 0.00358 |\n| all     | 0.45372 +- 0.00075 | 0.29335 +- 0.00139 | 0.52896 +- 0.00357 |\n| mean    | 0.15623 +- 0.00125 | 0.11270 +- 0.00127 | 0.17505 +- 0.00162 |\n+---------+--------------------+--------------------+--------------------+\n### TEST\n+---------+--------------------+--------------------+--------------------+\n| level   | mape               | wape               | smape              |\n|---------+--------------------+--------------------+--------------------|\n| 0       | 0.04499 +- 0.00123 | 0.04765 +- 0.00130 | 0.04656 +- 0.00129 |\n| 1       | 0.05338 +- 0.00138 | 0.05655 +- 0.00104 | 0.05471 +- 0.00139 |\n| 2       | 0.07538 +- 0.00118 | 0.07486 +- 0.00123 | 0.07835 +- 0.00123 |\n| 3       | 0.44964 +- 0.00113 | 0.29597 +- 0.00157 | 0.51114 +- 0.00232 |\n| all     | 0.44813 +- 0.00113 | 0.29525 +- 0.00157 | 0.50955 +- 0.00231 |\n| mean    | 0.15585 +- 0.00081 | 0.11876 +- 0.00084 | 0.17269 +- 0.00099 |\n+---------+--------------------+--------------------+--------------------+\n"
     ]
    }
   ],
   "source": [
    "print_stats('../logs/m5/node_emb_24_rolling_val/')"
   ]
  }
 ]
}