{
 "metadata": {
  "language_info": {
   "codemirror_mode": {
    "name": "ipython",
    "version": 3
   },
   "file_extension": ".py",
   "mimetype": "text/x-python",
   "name": "python",
   "nbconvert_exporter": "python",
   "pygments_lexer": "ipython3",
   "version": "3.8.6-final"
  },
  "orig_nbformat": 2,
  "kernelspec": {
   "name": "python38664bittfcondad1a01ac9327a4d08a9c9ba5e1dcdd174",
   "display_name": "Python 3.8.6 64-bit ('tf': conda)",
   "language": "python"
  }
 },
 "nbformat": 4,
 "nbformat_minor": 2,
 "cells": [
  {
   "cell_type": "code",
   "execution_count": null,
   "metadata": {},
   "outputs": [],
   "source": [
    "import numpy as np\n",
    "import matplotlib.pyplot as plt\n",
    "import seaborn as sns\n",
    "import pandas as pd\n",
    "import pickle\n",
    "from tabulate import tabulate"
   ]
  },
  {
   "cell_type": "code",
   "execution_count": null,
   "metadata": {},
   "outputs": [],
   "source": [
    "X_l1 = [0.1069, 0.100487, 0.10445, 0.104647, 0.1062275, 0.10252, 0.1040825, 0.103456, 0.0997385, 0.101905]\n",
    "X_nr = [0.106946, 0.108075, 0.105520,  0.108709, 0.105259, 0.103446, 0.108331, 0.107921, 0.108815, 0.103289]"
   ]
  },
  {
   "cell_type": "code",
   "execution_count": null,
   "metadata": {},
   "outputs": [],
   "source": [
    "print(f'{np.mean(X_l1):.5f} +- {np.std(X_l1):.5f}')\n",
    "print(f'{np.mean(X_nr):.5f} +- {np.std(X_nr):.5f}')\n",
    "\n",
    "Xs = ['L1'] * 10 + ['NR'] * 10\n",
    "Ys = X_l1 + X_nr\n",
    "\n",
    "# sns.kdeplot(x=X_l1, bw_adjust=0.6, fill=True)\n",
    "# sns.kdeplot(x=X_nr, bw_adjust=0.5, fill=True)\n",
    "\n",
    "# fig = plt.figure(figsize=(4, 6))\n",
    "# sns.violinplot(x=Xs, y=Ys, inner='box')"
   ]
  },
  {
   "cell_type": "code",
   "execution_count": null,
   "metadata": {},
   "outputs": [],
   "source": [
    "def compute_ci(dfs):\n",
    "    def conc(x, y):\n",
    "        print(x)\n",
    "        return f'{x} +- {y}'\n",
    "\n",
    "    df = pd.concat(dfs)\n",
    "    mean = df.groupby(by='level').mean().applymap(lambda x: f'{x:.5f} +- ')\n",
    "    std = df.groupby(by='level').std().applymap(lambda x: f'{x / np.sqrt(10):.5f}')\n",
    "    return mean + std\n",
    "\n",
    "def print_stats(path):\n",
    "    dfs = []\n",
    "    for i in range(1, 11):\n",
    "        sub_path = os.path.join(path, f'run_{i}/eval.pkl')\n",
    "        with open(sub_path, 'rb') as fin:\n",
    "            df = pickle.load(fin)\n",
    "        dfs.append(df)\n",
    "\n",
    "    print(tabulate(compute_ci(dfs), headers='keys', tablefmt='psql'))"
   ]
  },
  {
   "cell_type": "code",
   "execution_count": null,
   "metadata": {},
   "outputs": [],
   "source": [
    "print_stats('../logs/m5/fixed_l1/patience_5/')\n",
    "print_stats('../logs/m5/fixed_l1/lr_0.001_ep_50/')\n",
    "print_stats('../logs/m5/fixed_l1/lr_0.01_ep_25_l1_10.0/')"
   ]
  },
  {
   "cell_type": "code",
   "execution_count": null,
   "metadata": {},
   "outputs": [],
   "source": [
    "print_stats('../logs/m5/fixed/mean_norm/')"
   ]
  },
  {
   "cell_type": "code",
   "execution_count": null,
   "metadata": {},
   "outputs": [],
   "source": [
    "# print_stats('../logs/m5/fixed/exp_1_lr_0.01_ep_25/')\n",
    "# print_stats('../logs/m5/fixed/exp_2_lr_0.01_ep_25/')\n",
    "# print_stats('../logs/m5/fixed/exp_4_lr_0.01_ep_25/')\n",
    "# print_stats('../logs/m5/fixed/exp_32_lr_0.01_ep_25/')\n",
    "print_stats('../logs/m5/fixed/mean_norm/')\n",
    "print_stats('../logs/m5/fixed/hid_8_exp_16/')"
   ]
  },
  {
   "cell_type": "code",
   "execution_count": null,
   "metadata": {},
   "outputs": [],
   "source": [
    "# print_stats('../logs/m5/fixed_l1/exp_32/')\n",
    "# print_stats('../logs/m5/fixed_l1/exp_32_l1_0.1/')"
   ]
  },
  {
   "cell_type": "code",
   "execution_count": null,
   "metadata": {},
   "outputs": [],
   "source": [
    "print_stats('../logs/m5/fixed/hid_16_exp_10/')\n",
    "print_stats('../logs/m5/fixed/hid_16_exp_10_act_bias/')\n",
    "print_stats('../logs/m5/fixed/hid_16_exp_10_pretrain/')\n",
    "print_stats('../logs/m5/fixed/hid_16_exp_10_init/')"
   ]
  }
 ]
}