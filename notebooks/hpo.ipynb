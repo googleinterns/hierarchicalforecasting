{
 "cells": [
  {
   "cell_type": "code",
   "execution_count": 1,
   "metadata": {},
   "outputs": [],
   "source": [
    "import pickle\n",
    "import numpy as np"
   ]
  },
  {
   "cell_type": "code",
   "execution_count": 4,
   "metadata": {},
   "outputs": [],
   "source": [
    "with open('../hpo_results.pkl', 'rb') as fin:\n",
    "    results = pickle.load(fin)"
   ]
  },
  {
   "cell_type": "code",
   "execution_count": 8,
   "metadata": {},
   "outputs": [
    {
     "output_type": "stream",
     "name": "stdout",
     "text": "[{'test/rmse@0': 0.24046496, 'test/rmse@1': 0.3143122, 'test/rmse@2': 0.49058872, 'test/rmse@3': 0.9070643, 'test/rmse': 0.48810753}, {'test/rmse@0': 0.32057506, 'test/rmse@1': 0.3420008, 'test/rmse@2': 0.5118062, 'test/rmse@3': 0.9136399, 'test/rmse': 0.52200544}, {'test/rmse@0': 0.2882184, 'test/rmse@1': 0.33489037, 'test/rmse@2': 0.5020451, 'test/rmse@3': 0.91254663, 'test/rmse': 0.5094251}, {'test/rmse@0': 0.2757561, 'test/rmse@1': 0.32591704, 'test/rmse@2': 0.48799178, 'test/rmse@3': 0.9108805, 'test/rmse': 0.5001364}, {'test/rmse@0': 0.25160053, 'test/rmse@1': 0.3045149, 'test/rmse@2': 0.48397416, 'test/rmse@3': 0.9100261, 'test/rmse': 0.48752892}, {'test/rmse@0': 0.27062023, 'test/rmse@1': 0.3079521, 'test/rmse@2': 0.49164376, 'test/rmse@3': 0.9107909, 'test/rmse': 0.49525174}, {'test/rmse@0': 0.2631139, 'test/rmse@1': 0.31608188, 'test/rmse@2': 0.5268854, 'test/rmse@3': 0.9134773, 'test/rmse': 0.5048896}, {'test/rmse@0': 0.26247364, 'test/rmse@1': 0.33135042, 'test/rmse@2': 0.5174095, 'test/rmse@3': 0.9129171, 'test/rmse': 0.50603765}, {'test/rmse@0': 0.2623926, 'test/rmse@1': 0.3425877, 'test/rmse@2': 0.48374754, 'test/rmse@3': 0.91844726, 'test/rmse': 0.5017938}, {'test/rmse@0': 0.2861272, 'test/rmse@1': 0.33936346, 'test/rmse@2': 0.50400156, 'test/rmse@3': 0.90976006, 'test/rmse': 0.5098131}]\n"
    }
   ],
   "source": [
    "for res in results:\n",
    "    agg = {}\n",
    "    for eval_dict in res['evals']:\n",
    "        for key in eval_dict:\n",
    "            if key not in agg:\n",
    "                agg[key] = []\n",
    "            agg[key].append(eval_dict[key])\n",
    "    res['test/rmse'] = np.mean(agg['test/rmse'])"
   ]
  }
 ],
 "metadata": {
  "language_info": {
   "codemirror_mode": {
    "name": "ipython",
    "version": 3
   },
   "file_extension": ".py",
   "mimetype": "text/x-python",
   "name": "python",
   "nbconvert_exporter": "python",
   "pygments_lexer": "ipython3",
   "version": "3.7.6-final"
  },
  "orig_nbformat": 2,
  "kernelspec": {
   "name": "python3",
   "display_name": "Python 3"
  }
 },
 "nbformat": 4,
 "nbformat_minor": 2
}