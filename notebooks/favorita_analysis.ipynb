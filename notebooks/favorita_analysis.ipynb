{
 "cells": [
  {
   "cell_type": "code",
   "execution_count": 23,
   "metadata": {},
   "outputs": [],
   "source": [
    "import pandas as pd\n",
    "import numpy as np\n",
    "import datetime as dt\n",
    "from datetime import datetime"
   ]
  },
  {
   "cell_type": "code",
   "execution_count": 31,
   "metadata": {},
   "outputs": [
    {
     "output_type": "execute_result",
     "data": {
      "text/plain": "tuple"
     },
     "metadata": {},
     "execution_count": 31
    }
   ],
   "source": [
    "start = \"2016-06-29\"\n",
    "end = \"2017-08-15\"\n",
    "\n",
    "date_format = \"%Y-%m-%d\"\n",
    "start = datetime.strptime(start, date_format)\n",
    "end = datetime.strptime(end, date_format)\n",
    "diff = end-start\n",
    "diff.days\n",
    "\n",
    "next_date = start + dt.timedelta(days=-3)\n",
    "type(next_date.isocalendar()[1:3])"
   ]
  },
  {
   "cell_type": "code",
   "execution_count": 39,
   "metadata": {},
   "outputs": [
    {
     "output_type": "execute_result",
     "data": {
      "text/plain": "        store   item       date  week_of_year  day_of_week  unit_sales  \\\n108087      0  13300 2017-07-31            31            0     343.122   \n110248      9  12109 2017-07-31            31            0       6.000   \n10136       8  11308 2017-07-31            31            0    4865.000   \n6951        0  10500 2017-07-31            31            0       1.000   \n40018       0  11100 2017-07-31            31            0    2423.000   \n...       ...    ...        ...           ...          ...         ...   \n113422      0  12400 2017-08-15            33            1     140.000   \n111054      7  13307 2017-08-15            33            1      46.507   \n96694       8  12108 2017-08-15            33            1      38.000   \n67103       9  10409 2017-08-15            33            1    3530.000   \n134668      6  13106 2017-08-15            33            1    2073.636   \n\n       on_promo      item_family  item_class  perishable  weight ml_use  \n108087    False          SEAFOOD        2850           1   63.75   TEST  \n110248        0  LAWN AND GARDEN        6918           0    4.00   TEST  \n10136     False        GROCERY I        1016           0  831.00   TEST  \n6951          0            BOOKS        5192           0    1.00   TEST  \n40018     False             EGGS        2502           1  322.50   TEST  \n...         ...              ...         ...         ...     ...    ...  \n113422    False        MAGAZINES        5222           0   40.00   TEST  \n111054    False          SEAFOOD        2850           1    7.50   TEST  \n96694     False  LAWN AND GARDEN        6920           0   10.00   TEST  \n67103     False        BEVERAGES        1124           0  341.00   TEST  \n134668    False          PRODUCE        2008           1  217.50   TEST  \n\n[5358 rows x 12 columns]",
      "text/html": "<div>\n<style scoped>\n    .dataframe tbody tr th:only-of-type {\n        vertical-align: middle;\n    }\n\n    .dataframe tbody tr th {\n        vertical-align: top;\n    }\n\n    .dataframe thead th {\n        text-align: right;\n    }\n</style>\n<table border=\"1\" class=\"dataframe\">\n  <thead>\n    <tr style=\"text-align: right;\">\n      <th></th>\n      <th>store</th>\n      <th>item</th>\n      <th>date</th>\n      <th>week_of_year</th>\n      <th>day_of_week</th>\n      <th>unit_sales</th>\n      <th>on_promo</th>\n      <th>item_family</th>\n      <th>item_class</th>\n      <th>perishable</th>\n      <th>weight</th>\n      <th>ml_use</th>\n    </tr>\n  </thead>\n  <tbody>\n    <tr>\n      <th>108087</th>\n      <td>0</td>\n      <td>13300</td>\n      <td>2017-07-31</td>\n      <td>31</td>\n      <td>0</td>\n      <td>343.122</td>\n      <td>False</td>\n      <td>SEAFOOD</td>\n      <td>2850</td>\n      <td>1</td>\n      <td>63.75</td>\n      <td>TEST</td>\n    </tr>\n    <tr>\n      <th>110248</th>\n      <td>9</td>\n      <td>12109</td>\n      <td>2017-07-31</td>\n      <td>31</td>\n      <td>0</td>\n      <td>6.000</td>\n      <td>0</td>\n      <td>LAWN AND GARDEN</td>\n      <td>6918</td>\n      <td>0</td>\n      <td>4.00</td>\n      <td>TEST</td>\n    </tr>\n    <tr>\n      <th>10136</th>\n      <td>8</td>\n      <td>11308</td>\n      <td>2017-07-31</td>\n      <td>31</td>\n      <td>0</td>\n      <td>4865.000</td>\n      <td>False</td>\n      <td>GROCERY I</td>\n      <td>1016</td>\n      <td>0</td>\n      <td>831.00</td>\n      <td>TEST</td>\n    </tr>\n    <tr>\n      <th>6951</th>\n      <td>0</td>\n      <td>10500</td>\n      <td>2017-07-31</td>\n      <td>31</td>\n      <td>0</td>\n      <td>1.000</td>\n      <td>0</td>\n      <td>BOOKS</td>\n      <td>5192</td>\n      <td>0</td>\n      <td>1.00</td>\n      <td>TEST</td>\n    </tr>\n    <tr>\n      <th>40018</th>\n      <td>0</td>\n      <td>11100</td>\n      <td>2017-07-31</td>\n      <td>31</td>\n      <td>0</td>\n      <td>2423.000</td>\n      <td>False</td>\n      <td>EGGS</td>\n      <td>2502</td>\n      <td>1</td>\n      <td>322.50</td>\n      <td>TEST</td>\n    </tr>\n    <tr>\n      <th>...</th>\n      <td>...</td>\n      <td>...</td>\n      <td>...</td>\n      <td>...</td>\n      <td>...</td>\n      <td>...</td>\n      <td>...</td>\n      <td>...</td>\n      <td>...</td>\n      <td>...</td>\n      <td>...</td>\n      <td>...</td>\n    </tr>\n    <tr>\n      <th>113422</th>\n      <td>0</td>\n      <td>12400</td>\n      <td>2017-08-15</td>\n      <td>33</td>\n      <td>1</td>\n      <td>140.000</td>\n      <td>False</td>\n      <td>MAGAZINES</td>\n      <td>5222</td>\n      <td>0</td>\n      <td>40.00</td>\n      <td>TEST</td>\n    </tr>\n    <tr>\n      <th>111054</th>\n      <td>7</td>\n      <td>13307</td>\n      <td>2017-08-15</td>\n      <td>33</td>\n      <td>1</td>\n      <td>46.507</td>\n      <td>False</td>\n      <td>SEAFOOD</td>\n      <td>2850</td>\n      <td>1</td>\n      <td>7.50</td>\n      <td>TEST</td>\n    </tr>\n    <tr>\n      <th>96694</th>\n      <td>8</td>\n      <td>12108</td>\n      <td>2017-08-15</td>\n      <td>33</td>\n      <td>1</td>\n      <td>38.000</td>\n      <td>False</td>\n      <td>LAWN AND GARDEN</td>\n      <td>6920</td>\n      <td>0</td>\n      <td>10.00</td>\n      <td>TEST</td>\n    </tr>\n    <tr>\n      <th>67103</th>\n      <td>9</td>\n      <td>10409</td>\n      <td>2017-08-15</td>\n      <td>33</td>\n      <td>1</td>\n      <td>3530.000</td>\n      <td>False</td>\n      <td>BEVERAGES</td>\n      <td>1124</td>\n      <td>0</td>\n      <td>341.00</td>\n      <td>TEST</td>\n    </tr>\n    <tr>\n      <th>134668</th>\n      <td>6</td>\n      <td>13106</td>\n      <td>2017-08-15</td>\n      <td>33</td>\n      <td>1</td>\n      <td>2073.636</td>\n      <td>False</td>\n      <td>PRODUCE</td>\n      <td>2008</td>\n      <td>1</td>\n      <td>217.50</td>\n      <td>TEST</td>\n    </tr>\n  </tbody>\n</table>\n<p>5358 rows × 12 columns</p>\n</div>"
     },
     "metadata": {},
     "execution_count": 39
    }
   ],
   "source": [
    "df = pd.read_csv('../data/favorita/aggregate_sales10.csv', sep=',')\n",
    "df['date'] = pd.to_datetime(df.date)\n",
    "df.sort_values(by='date', inplace=True)\n",
    "df.loc[df['ml_use'] == 'TEST']"
   ]
  },
  {
   "cell_type": "code",
   "execution_count": 15,
   "metadata": {},
   "outputs": [
    {
     "output_type": "stream",
     "name": "stdout",
     "text": "0\n"
    }
   ],
   "source": [
    "for it in df[['item', 'date', 'unit_sales']].itertuples():\n",
    "    print((it[2] - start).days)\n",
    "    break"
   ]
  },
  {
   "cell_type": "code",
   "execution_count": 19,
   "metadata": {},
   "outputs": [
    {
     "output_type": "execute_result",
     "data": {
      "text/plain": "          date        type    locale locale_name  \\\n0   2012-03-02     Holiday     Local       Manta   \n1   2012-04-01     Holiday  Regional    Cotopaxi   \n2   2012-04-12     Holiday     Local      Cuenca   \n3   2012-04-14     Holiday     Local    Libertad   \n4   2012-04-21     Holiday     Local    Riobamba   \n..         ...         ...       ...         ...   \n345 2017-12-22  Additional  National     Ecuador   \n346 2017-12-23  Additional  National     Ecuador   \n347 2017-12-24  Additional  National     Ecuador   \n348 2017-12-25     Holiday  National     Ecuador   \n349 2017-12-26  Additional  National     Ecuador   \n\n                       description  transferred  \n0               Fundacion de Manta        False  \n1    Provincializacion de Cotopaxi        False  \n2              Fundacion de Cuenca        False  \n3        Cantonizacion de Libertad        False  \n4        Cantonizacion de Riobamba        False  \n..                             ...          ...  \n345                      Navidad-3        False  \n346                      Navidad-2        False  \n347                      Navidad-1        False  \n348                        Navidad        False  \n349                      Navidad+1        False  \n\n[350 rows x 6 columns]",
      "text/html": "<div>\n<style scoped>\n    .dataframe tbody tr th:only-of-type {\n        vertical-align: middle;\n    }\n\n    .dataframe tbody tr th {\n        vertical-align: top;\n    }\n\n    .dataframe thead th {\n        text-align: right;\n    }\n</style>\n<table border=\"1\" class=\"dataframe\">\n  <thead>\n    <tr style=\"text-align: right;\">\n      <th></th>\n      <th>date</th>\n      <th>type</th>\n      <th>locale</th>\n      <th>locale_name</th>\n      <th>description</th>\n      <th>transferred</th>\n    </tr>\n  </thead>\n  <tbody>\n    <tr>\n      <th>0</th>\n      <td>2012-03-02</td>\n      <td>Holiday</td>\n      <td>Local</td>\n      <td>Manta</td>\n      <td>Fundacion de Manta</td>\n      <td>False</td>\n    </tr>\n    <tr>\n      <th>1</th>\n      <td>2012-04-01</td>\n      <td>Holiday</td>\n      <td>Regional</td>\n      <td>Cotopaxi</td>\n      <td>Provincializacion de Cotopaxi</td>\n      <td>False</td>\n    </tr>\n    <tr>\n      <th>2</th>\n      <td>2012-04-12</td>\n      <td>Holiday</td>\n      <td>Local</td>\n      <td>Cuenca</td>\n      <td>Fundacion de Cuenca</td>\n      <td>False</td>\n    </tr>\n    <tr>\n      <th>3</th>\n      <td>2012-04-14</td>\n      <td>Holiday</td>\n      <td>Local</td>\n      <td>Libertad</td>\n      <td>Cantonizacion de Libertad</td>\n      <td>False</td>\n    </tr>\n    <tr>\n      <th>4</th>\n      <td>2012-04-21</td>\n      <td>Holiday</td>\n      <td>Local</td>\n      <td>Riobamba</td>\n      <td>Cantonizacion de Riobamba</td>\n      <td>False</td>\n    </tr>\n    <tr>\n      <th>...</th>\n      <td>...</td>\n      <td>...</td>\n      <td>...</td>\n      <td>...</td>\n      <td>...</td>\n      <td>...</td>\n    </tr>\n    <tr>\n      <th>345</th>\n      <td>2017-12-22</td>\n      <td>Additional</td>\n      <td>National</td>\n      <td>Ecuador</td>\n      <td>Navidad-3</td>\n      <td>False</td>\n    </tr>\n    <tr>\n      <th>346</th>\n      <td>2017-12-23</td>\n      <td>Additional</td>\n      <td>National</td>\n      <td>Ecuador</td>\n      <td>Navidad-2</td>\n      <td>False</td>\n    </tr>\n    <tr>\n      <th>347</th>\n      <td>2017-12-24</td>\n      <td>Additional</td>\n      <td>National</td>\n      <td>Ecuador</td>\n      <td>Navidad-1</td>\n      <td>False</td>\n    </tr>\n    <tr>\n      <th>348</th>\n      <td>2017-12-25</td>\n      <td>Holiday</td>\n      <td>National</td>\n      <td>Ecuador</td>\n      <td>Navidad</td>\n      <td>False</td>\n    </tr>\n    <tr>\n      <th>349</th>\n      <td>2017-12-26</td>\n      <td>Additional</td>\n      <td>National</td>\n      <td>Ecuador</td>\n      <td>Navidad+1</td>\n      <td>False</td>\n    </tr>\n  </tbody>\n</table>\n<p>350 rows × 6 columns</p>\n</div>"
     },
     "metadata": {},
     "execution_count": 19
    }
   ],
   "source": [
    "feats = pd.read_csv('../data/favorita/holidays_events.csv', sep=',')\n",
    "feats['date'] = pd.to_datetime(feats.date)\n",
    "feats.sort_values(by='date', inplace=True)\n",
    "feats"
   ]
  }
 ],
 "metadata": {
  "language_info": {
   "codemirror_mode": {
    "name": "ipython",
    "version": 3
   },
   "file_extension": ".py",
   "mimetype": "text/x-python",
   "name": "python",
   "nbconvert_exporter": "python",
   "pygments_lexer": "ipython3",
   "version": 3
  },
  "orig_nbformat": 2,
  "kernelspec": {
   "name": "python_defaultSpec_1601392053175",
   "display_name": "Python 3.7.6 64-bit ('base': conda)"
  }
 },
 "nbformat": 4,
 "nbformat_minor": 2
}