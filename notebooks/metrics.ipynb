{
 "cells": [
  {
   "cell_type": "code",
   "execution_count": 1,
   "metadata": {},
   "outputs": [],
   "source": [
    "import numpy as np\n",
    "import pickle"
   ]
  },
  {
   "cell_type": "code",
   "execution_count": 10,
   "metadata": {},
   "outputs": [
    {
     "output_type": "stream",
     "name": "stdout",
     "text": "{'test/rmse@0': 0.24864538, 'test/rmse@1': 0.32286024, 'test/rmse@2': 0.49280947, 'test/rmse@3': 0.9138508, 'test/rmse': 0.49454156, 'l1': -5, 'l2': -5}\n{'test/rmse@0': 0.25340587, 'test/rmse@1': 0.3229409, 'test/rmse@2': 0.49703878, 'test/rmse@3': 0.9139457, 'test/rmse': 0.4968328, 'l1': -5, 'l2': -3}\n{'test/rmse@0': 0.25653815, 'test/rmse@1': 0.3181805, 'test/rmse@2': 0.4989842, 'test/rmse@3': 0.9154302, 'test/rmse': 0.49728322, 'l1': -5, 'l2': -2}\n{'test/rmse@0': 0.25875765, 'test/rmse@1': 0.32551995, 'test/rmse@2': 0.4959467, 'test/rmse@3': 0.9133118, 'test/rmse': 0.49838406, 'l1': -3, 'l2': -3}\n{'test/rmse@0': 0.26282343, 'test/rmse@1': 0.3239634, 'test/rmse@2': 0.4929304, 'test/rmse@3': 0.9146675, 'test/rmse': 0.4985962, 'l1': -4, 'l2': -3}\n{'test/rmse@0': 0.2605701, 'test/rmse@1': 0.3243151, 'test/rmse@2': 0.49860722, 'test/rmse@3': 0.91254693, 'test/rmse': 0.4990098, 'l1': -4, 'l2': -4}\n{'test/rmse@0': 0.25825566, 'test/rmse@1': 0.3231032, 'test/rmse@2': 0.5013682, 'test/rmse@3': 0.9151718, 'test/rmse': 0.4994747, 'l1': -5, 'l2': -4}\n{'test/rmse@0': 0.2571435, 'test/rmse@1': 0.32916915, 'test/rmse@2': 0.4980329, 'test/rmse@3': 0.91501844, 'test/rmse': 0.49984103, 'l1': -3, 'l2': -5}\n{'test/rmse@0': 0.27140677, 'test/rmse@1': 0.3266636, 'test/rmse@2': 0.49464145, 'test/rmse@3': 0.9141747, 'test/rmse': 0.5017216, 'l1': -3, 'l2': -4}\n{'test/rmse@0': 0.26355478, 'test/rmse@1': 0.32584566, 'test/rmse@2': 0.50419533, 'test/rmse@3': 0.91364765, 'test/rmse': 0.5018109, 'l1': -3, 'l2': -2}\n{'test/rmse@0': 0.2674711, 'test/rmse@1': 0.33028102, 'test/rmse@2': 0.49669972, 'test/rmse@3': 0.9128519, 'test/rmse': 0.50182587, 'l1': -4, 'l2': -5}\n{'test/rmse@0': 0.26694623, 'test/rmse@1': 0.33986157, 'test/rmse@2': 0.5008882, 'test/rmse@3': 0.9155731, 'test/rmse': 0.5058173, 'l1': -4, 'l2': -2}\n{'test/rmse@0': 0.26832145, 'test/rmse@1': 0.33384702, 'test/rmse@2': 0.5240606, 'test/rmse@3': 0.9187416, 'test/rmse': 0.51124275, 'l1': -4, 'l2': -1}\n{'test/rmse@0': 0.27839917, 'test/rmse@1': 0.3422119, 'test/rmse@2': 0.53459525, 'test/rmse@3': 0.9170784, 'test/rmse': 0.51807123, 'l1': -5, 'l2': -1}\n{'test/rmse@0': 0.57111144, 'test/rmse@1': 0.5422238, 'test/rmse@2': 0.66599333, 'test/rmse@3': 0.9219535, 'test/rmse': 0.6753205, 'l1': -3, 'l2': -1}\n{'l1': -2, 'l2': -5, 'test/rmse': inf}\n{'l1': -2, 'l2': -4, 'test/rmse': inf}\n{'l1': -2, 'l2': -3, 'test/rmse': inf}\n{'l1': -2, 'l2': -2, 'test/rmse': inf}\n{'l1': -2, 'l2': -1, 'test/rmse': inf}\n{'l1': -1, 'l2': -5, 'test/rmse': inf}\n{'l1': -1, 'l2': -4, 'test/rmse': inf}\n{'l1': -1, 'l2': -3, 'test/rmse': inf}\n{'l1': -1, 'l2': -2, 'test/rmse': inf}\n{'l1': -1, 'l2': -1, 'test/rmse': inf}\n"
    }
   ],
   "source": [
    "results = []\n",
    "for l1 in range(-5, 0):\n",
    "    for l2 in range(-5, 0):\n",
    "        agg = {}\n",
    "        directory = f'HPO/l2_1e{l2}_l1_1e{l1}'\n",
    "        for i in range(1, 11):\n",
    "            eval_path = \\\n",
    "                f'../../HPO/l2_1e{l2}_l1_1e{l1}/run_{i}/eval.pkl'\n",
    "            try:\n",
    "                with open(eval_path, 'rb') as fin:\n",
    "                    eval_dict = pickle.load(fin)\n",
    "            except FileNotFoundError:\n",
    "                continue\n",
    "            for key in eval_dict:\n",
    "                if key not in agg:\n",
    "                    agg[key] = []\n",
    "                agg[key].append(eval_dict[key])\n",
    "        for key in agg:\n",
    "            agg[key] = np.mean(agg[key])\n",
    "        agg['l1'] = l1\n",
    "        agg['l2'] = l2\n",
    "        if 'test/rmse' not in agg:\n",
    "            agg['test/rmse'] = np.inf\n",
    "        results.append(agg)\n",
    "results = sorted(results, key=lambda x: x['test/rmse'])\n",
    "for res in results:\n",
    "    print(res)"
   ]
  }
 ],
 "metadata": {
  "language_info": {
   "codemirror_mode": {
    "name": "ipython",
    "version": 3
   },
   "file_extension": ".py",
   "mimetype": "text/x-python",
   "name": "python",
   "nbconvert_exporter": "python",
   "pygments_lexer": "ipython3",
   "version": 3
  },
  "orig_nbformat": 2,
  "kernelspec": {
   "name": "python_defaultSpec_1598282022311",
   "display_name": "Python 3.7.6 64-bit ('base': conda)"
  }
 },
 "nbformat": 4,
 "nbformat_minor": 2
}