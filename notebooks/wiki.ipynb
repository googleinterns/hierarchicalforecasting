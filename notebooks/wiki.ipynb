{
 "metadata": {
  "language_info": {
   "codemirror_mode": {
    "name": "ipython",
    "version": 3
   },
   "file_extension": ".py",
   "mimetype": "text/x-python",
   "name": "python",
   "nbconvert_exporter": "python",
   "pygments_lexer": "ipython3",
   "version": "3.8.6"
  },
  "orig_nbformat": 2,
  "kernelspec": {
   "name": "python386jvsc74a57bd020dc7271c8d0c4665f3c7f938fe22a4df6f368be73aeaaa0b201719f521da504",
   "display_name": "Python 3.8.6 64-bit ('tf': conda)"
  },
  "metadata": {
   "interpreter": {
    "hash": "20dc7271c8d0c4665f3c7f938fe22a4df6f368be73aeaaa0b201719f521da504"
   }
  }
 },
 "nbformat": 4,
 "nbformat_minor": 2,
 "cells": [
  {
   "cell_type": "code",
   "execution_count": 41,
   "metadata": {},
   "outputs": [],
   "source": [
    "import numpy as np\n",
    "import pandas as pd\n",
    "from tqdm import tqdm"
   ]
  },
  {
   "cell_type": "code",
   "execution_count": 34,
   "metadata": {},
   "outputs": [],
   "source": [
    "with open('../data/wiki/data.csv', 'r') as fin:\n",
    "    data = fin.readlines()\n",
    "\n",
    "with open('../data/wiki/data_cleaned.csv', 'w') as fout:\n",
    "    for line in data:\n",
    "        line = line.split(',')\n",
    "        if len(line) > 554:\n",
    "            line = line[:3] + [\"_\".join(line[3:-550])] + line[-550:]\n",
    "        assert(len(line) == 554)\n",
    "        line = \",\".join(line)\n",
    "        fout.write(line)"
   ]
  },
  {
   "cell_type": "code",
   "execution_count": 39,
   "metadata": {},
   "outputs": [
    {
     "output_type": "execute_result",
     "data": {
      "text/plain": [
       "      Category(countrycode)  Subcategory(access)  Subsubcategory(agent)  Page  \\\n",
       "0                         1                    0                      1  1073   \n",
       "1                         4                    2                      0  2100   \n",
       "2                         1                    0                      0  1308   \n",
       "3                         0                    2                      0  1051   \n",
       "4                         3                    0                      1  2370   \n",
       "...                     ...                  ...                    ...   ...   \n",
       "2995                      3                    0                      1  2402   \n",
       "2996                      0                    1                      0  1402   \n",
       "2997                      0                    1                      0  1239   \n",
       "2998                      2                    2                      0   688   \n",
       "2999                      3                    0                      1  2125   \n",
       "\n",
       "      2015-07-01  2015-07-02  2015-07-03  2015-07-04  2015-07-05  2015-07-06  \\\n",
       "0             32          16          12          28          15          13   \n",
       "1            165         133         152         215         226         184   \n",
       "2           2569        2622        2780        2793        3100        3109   \n",
       "3             15          28          20          30          58          23   \n",
       "4              4           5           3           6          23           7   \n",
       "...          ...         ...         ...         ...         ...         ...   \n",
       "2995           2           1           1           2           3           1   \n",
       "2996         829         696         695         399         561         764   \n",
       "2997         542         566         555         514         515         662   \n",
       "2998         127         158         143         202         279         171   \n",
       "2999          20          18          14           9           9           4   \n",
       "\n",
       "      ...  2016-12-22  2016-12-23  2016-12-24  2016-12-25  2016-12-26  \\\n",
       "0     ...          83          68          47          48          63   \n",
       "1     ...         104         169         114         128         110   \n",
       "2     ...       12347       12224       14518       12373       14352   \n",
       "3     ...         183          74          88          76          82   \n",
       "4     ...         277         169         139         162         100   \n",
       "...   ...         ...         ...         ...         ...         ...   \n",
       "2995  ...        2113        9984        3635        5792        1813   \n",
       "2996  ...         536         469         678         448         590   \n",
       "2997  ...         778         603         429         560         557   \n",
       "2998  ...         389         479         410         505         422   \n",
       "2999  ...          66          58          40          54          49   \n",
       "\n",
       "      2016-12-27  2016-12-28  2016-12-29  2016-12-30  2016-12-31  \n",
       "0             75          86          39          71          88  \n",
       "1            128         133         154          99         111  \n",
       "2          24551       30958       21849       16542       13399  \n",
       "3             46          55          55          29          29  \n",
       "4           1415         290         152         128         127  \n",
       "...          ...         ...         ...         ...         ...  \n",
       "2995        1372        8958        3847        5704       10078  \n",
       "2996         714         880        1240         871         436  \n",
       "2997         689         584         688         660         599  \n",
       "2998         393         346         439         416        1962  \n",
       "2999          32          42          51          47          53  \n",
       "\n",
       "[3000 rows x 554 columns]"
      ],
      "text/html": "<div>\n<style scoped>\n    .dataframe tbody tr th:only-of-type {\n        vertical-align: middle;\n    }\n\n    .dataframe tbody tr th {\n        vertical-align: top;\n    }\n\n    .dataframe thead th {\n        text-align: right;\n    }\n</style>\n<table border=\"1\" class=\"dataframe\">\n  <thead>\n    <tr style=\"text-align: right;\">\n      <th></th>\n      <th>Category(countrycode)</th>\n      <th>Subcategory(access)</th>\n      <th>Subsubcategory(agent)</th>\n      <th>Page</th>\n      <th>2015-07-01</th>\n      <th>2015-07-02</th>\n      <th>2015-07-03</th>\n      <th>2015-07-04</th>\n      <th>2015-07-05</th>\n      <th>2015-07-06</th>\n      <th>...</th>\n      <th>2016-12-22</th>\n      <th>2016-12-23</th>\n      <th>2016-12-24</th>\n      <th>2016-12-25</th>\n      <th>2016-12-26</th>\n      <th>2016-12-27</th>\n      <th>2016-12-28</th>\n      <th>2016-12-29</th>\n      <th>2016-12-30</th>\n      <th>2016-12-31</th>\n    </tr>\n  </thead>\n  <tbody>\n    <tr>\n      <th>0</th>\n      <td>1</td>\n      <td>0</td>\n      <td>1</td>\n      <td>1073</td>\n      <td>32</td>\n      <td>16</td>\n      <td>12</td>\n      <td>28</td>\n      <td>15</td>\n      <td>13</td>\n      <td>...</td>\n      <td>83</td>\n      <td>68</td>\n      <td>47</td>\n      <td>48</td>\n      <td>63</td>\n      <td>75</td>\n      <td>86</td>\n      <td>39</td>\n      <td>71</td>\n      <td>88</td>\n    </tr>\n    <tr>\n      <th>1</th>\n      <td>4</td>\n      <td>2</td>\n      <td>0</td>\n      <td>2100</td>\n      <td>165</td>\n      <td>133</td>\n      <td>152</td>\n      <td>215</td>\n      <td>226</td>\n      <td>184</td>\n      <td>...</td>\n      <td>104</td>\n      <td>169</td>\n      <td>114</td>\n      <td>128</td>\n      <td>110</td>\n      <td>128</td>\n      <td>133</td>\n      <td>154</td>\n      <td>99</td>\n      <td>111</td>\n    </tr>\n    <tr>\n      <th>2</th>\n      <td>1</td>\n      <td>0</td>\n      <td>0</td>\n      <td>1308</td>\n      <td>2569</td>\n      <td>2622</td>\n      <td>2780</td>\n      <td>2793</td>\n      <td>3100</td>\n      <td>3109</td>\n      <td>...</td>\n      <td>12347</td>\n      <td>12224</td>\n      <td>14518</td>\n      <td>12373</td>\n      <td>14352</td>\n      <td>24551</td>\n      <td>30958</td>\n      <td>21849</td>\n      <td>16542</td>\n      <td>13399</td>\n    </tr>\n    <tr>\n      <th>3</th>\n      <td>0</td>\n      <td>2</td>\n      <td>0</td>\n      <td>1051</td>\n      <td>15</td>\n      <td>28</td>\n      <td>20</td>\n      <td>30</td>\n      <td>58</td>\n      <td>23</td>\n      <td>...</td>\n      <td>183</td>\n      <td>74</td>\n      <td>88</td>\n      <td>76</td>\n      <td>82</td>\n      <td>46</td>\n      <td>55</td>\n      <td>55</td>\n      <td>29</td>\n      <td>29</td>\n    </tr>\n    <tr>\n      <th>4</th>\n      <td>3</td>\n      <td>0</td>\n      <td>1</td>\n      <td>2370</td>\n      <td>4</td>\n      <td>5</td>\n      <td>3</td>\n      <td>6</td>\n      <td>23</td>\n      <td>7</td>\n      <td>...</td>\n      <td>277</td>\n      <td>169</td>\n      <td>139</td>\n      <td>162</td>\n      <td>100</td>\n      <td>1415</td>\n      <td>290</td>\n      <td>152</td>\n      <td>128</td>\n      <td>127</td>\n    </tr>\n    <tr>\n      <th>...</th>\n      <td>...</td>\n      <td>...</td>\n      <td>...</td>\n      <td>...</td>\n      <td>...</td>\n      <td>...</td>\n      <td>...</td>\n      <td>...</td>\n      <td>...</td>\n      <td>...</td>\n      <td>...</td>\n      <td>...</td>\n      <td>...</td>\n      <td>...</td>\n      <td>...</td>\n      <td>...</td>\n      <td>...</td>\n      <td>...</td>\n      <td>...</td>\n      <td>...</td>\n      <td>...</td>\n    </tr>\n    <tr>\n      <th>2995</th>\n      <td>3</td>\n      <td>0</td>\n      <td>1</td>\n      <td>2402</td>\n      <td>2</td>\n      <td>1</td>\n      <td>1</td>\n      <td>2</td>\n      <td>3</td>\n      <td>1</td>\n      <td>...</td>\n      <td>2113</td>\n      <td>9984</td>\n      <td>3635</td>\n      <td>5792</td>\n      <td>1813</td>\n      <td>1372</td>\n      <td>8958</td>\n      <td>3847</td>\n      <td>5704</td>\n      <td>10078</td>\n    </tr>\n    <tr>\n      <th>2996</th>\n      <td>0</td>\n      <td>1</td>\n      <td>0</td>\n      <td>1402</td>\n      <td>829</td>\n      <td>696</td>\n      <td>695</td>\n      <td>399</td>\n      <td>561</td>\n      <td>764</td>\n      <td>...</td>\n      <td>536</td>\n      <td>469</td>\n      <td>678</td>\n      <td>448</td>\n      <td>590</td>\n      <td>714</td>\n      <td>880</td>\n      <td>1240</td>\n      <td>871</td>\n      <td>436</td>\n    </tr>\n    <tr>\n      <th>2997</th>\n      <td>0</td>\n      <td>1</td>\n      <td>0</td>\n      <td>1239</td>\n      <td>542</td>\n      <td>566</td>\n      <td>555</td>\n      <td>514</td>\n      <td>515</td>\n      <td>662</td>\n      <td>...</td>\n      <td>778</td>\n      <td>603</td>\n      <td>429</td>\n      <td>560</td>\n      <td>557</td>\n      <td>689</td>\n      <td>584</td>\n      <td>688</td>\n      <td>660</td>\n      <td>599</td>\n    </tr>\n    <tr>\n      <th>2998</th>\n      <td>2</td>\n      <td>2</td>\n      <td>0</td>\n      <td>688</td>\n      <td>127</td>\n      <td>158</td>\n      <td>143</td>\n      <td>202</td>\n      <td>279</td>\n      <td>171</td>\n      <td>...</td>\n      <td>389</td>\n      <td>479</td>\n      <td>410</td>\n      <td>505</td>\n      <td>422</td>\n      <td>393</td>\n      <td>346</td>\n      <td>439</td>\n      <td>416</td>\n      <td>1962</td>\n    </tr>\n    <tr>\n      <th>2999</th>\n      <td>3</td>\n      <td>0</td>\n      <td>1</td>\n      <td>2125</td>\n      <td>20</td>\n      <td>18</td>\n      <td>14</td>\n      <td>9</td>\n      <td>9</td>\n      <td>4</td>\n      <td>...</td>\n      <td>66</td>\n      <td>58</td>\n      <td>40</td>\n      <td>54</td>\n      <td>49</td>\n      <td>32</td>\n      <td>42</td>\n      <td>51</td>\n      <td>47</td>\n      <td>53</td>\n    </tr>\n  </tbody>\n</table>\n<p>3000 rows × 554 columns</p>\n</div>"
     },
     "metadata": {},
     "execution_count": 39
    }
   ],
   "source": [
    "data = pd.read_csv('../data/wiki/data_cleaned.csv', sep=',')\n",
    "cols = ['Category(countrycode)', 'Subcategory(access)', 'Subsubcategory(agent)', 'Page']\n",
    "for c in cols:\n",
    "    data[c] = data[c].astype('category').cat.codes\n",
    "data"
   ]
  },
  {
   "cell_type": "code",
   "execution_count": 45,
   "metadata": {},
   "outputs": [],
   "source": [
    "tsdata = []\n",
    "for row in data.itertuples():\n",
    "    tsdata.append(row[5:])\n",
    "tsdata = np.asarray(tsdata, dtype=np.float32)"
   ]
  },
  {
   "cell_type": "code",
   "execution_count": 56,
   "metadata": {},
   "outputs": [
    {
     "output_type": "stream",
     "name": "stdout",
     "text": [
      "1_0_1_1073\n"
     ]
    }
   ],
   "source": [
    "for row in data.itertuples():\n",
    "    path = [str(it) for it in row[1:5]]\n",
    "    print('_'.join(path))\n",
    "    break"
   ]
  }
 ]
}