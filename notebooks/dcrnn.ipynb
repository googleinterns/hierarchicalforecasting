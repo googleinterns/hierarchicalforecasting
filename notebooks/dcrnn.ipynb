{
 "metadata": {
  "language_info": {
   "codemirror_mode": {
    "name": "ipython",
    "version": 3
   },
   "file_extension": ".py",
   "mimetype": "text/x-python",
   "name": "python",
   "nbconvert_exporter": "python",
   "pygments_lexer": "ipython3",
   "version": "3.8.6"
  },
  "orig_nbformat": 2,
  "kernelspec": {
   "name": "python386jvsc74a57bd020dc7271c8d0c4665f3c7f938fe22a4df6f368be73aeaaa0b201719f521da504",
   "display_name": "Python 3.8.6 64-bit ('tf': conda)"
  },
  "metadata": {
   "interpreter": {
    "hash": "20dc7271c8d0c4665f3c7f938fe22a4df6f368be73aeaaa0b201719f521da504"
   }
  }
 },
 "nbformat": 4,
 "nbformat_minor": 2,
 "cells": [
  {
   "cell_type": "code",
   "execution_count": 25,
   "metadata": {},
   "outputs": [],
   "source": [
    "import sys\n",
    "sys.path.append('/zfsauton3/home/bparia/hf_moe')\n",
    "\n",
    "import data_loader\n",
    "import pickle\n",
    "import numpy as np\n",
    "from tqdm import tqdm"
   ]
  },
  {
   "cell_type": "code",
   "execution_count": 64,
   "metadata": {},
   "outputs": [
    {
     "output_type": "execute_result",
     "data": {
      "text/plain": [
       "(1913, 3060, 1)"
      ]
     },
     "metadata": {},
     "execution_count": 64
    }
   ],
   "source": [
    "dataset = 'm5'\n",
    "with open(f'../data/{dataset}/data.pkl', 'rb') as fin:\n",
    "    tree, ts_data, (feats, _, _) = pickle.load(fin)\n",
    "\n",
    "leaf_mat = tree.leaf_matrix.T\n",
    "num_leaf = np.sum(leaf_mat, axis=0, keepdims=True)\n",
    "ts_data = ts_data / num_leaf\n",
    "\n",
    "steps, nodes = ts_data.shape\n",
    "\n",
    "ts_data = np.expand_dims(ts_data, axis=-1)\n",
    "ts_data.shape"
   ]
  },
  {
   "cell_type": "code",
   "execution_count": 54,
   "metadata": {},
   "outputs": [],
   "source": [
    "with open(f'../../DCRNN/data/sensor_graph/adj_{dataset}.pkl', 'wb') as f:\n",
    "    pickle.dump([None, tree.levels, tree.adj_matrix], f, protocol=2)"
   ]
  },
  {
   "cell_type": "code",
   "execution_count": 55,
   "metadata": {},
   "outputs": [],
   "source": [
    "hist_len = 28\n",
    "pred_len = 7\n",
    "\n",
    "tot_len = ts_data.shape[0]\n",
    "\n",
    "val_windows = 5\n",
    "test_windows = 5"
   ]
  },
  {
   "cell_type": "code",
   "execution_count": 65,
   "metadata": {},
   "outputs": [
    {
     "output_type": "stream",
     "name": "stderr",
     "text": [
      "100%|██████████| 1787/1787 [00:00<00:00, 112256.01it/s]\n",
      "(1787, 28, 3060, 1)\n",
      "(1787, 7, 3060, 1)\n"
     ]
    }
   ],
   "source": [
    "data_path = f'../../DCRNN/data/{dataset}/train.npz'\n",
    "\n",
    "num_data = tot_len - (val_windows + test_windows) * pred_len \\\n",
    "        - 2 * hist_len\n",
    "\n",
    "train_x = []\n",
    "train_y = []\n",
    "\n",
    "for i in tqdm(range(num_data)):\n",
    "    sub_ts = ts_data[i:i+hist_len+pred_len]\n",
    "    sub_x = sub_ts[:hist_len]\n",
    "    sub_y = sub_ts[hist_len:, :, :1]\n",
    "    train_x.append(sub_x)\n",
    "    train_y.append(sub_y)\n",
    "\n",
    "train_x = np.array(train_x)\n",
    "train_y = np.array(train_y)\n",
    "\n",
    "print(train_x.shape)\n",
    "print(train_y.shape)\n",
    "\n",
    "np.savez_compressed(\n",
    "    data_path,\n",
    "    x=train_x,\n",
    "    y=train_y\n",
    ")"
   ]
  },
  {
   "cell_type": "code",
   "execution_count": 66,
   "metadata": {},
   "outputs": [
    {
     "output_type": "stream",
     "name": "stdout",
     "text": [
      "(5, 28, 3060, 1)\n(5, 7, 3060, 1)\n"
     ]
    }
   ],
   "source": [
    "data_path = f'../../DCRNN/data/{dataset}/val.npz'\n",
    "\n",
    "start_idx = tot_len - (val_windows + test_windows) * pred_len - hist_len\n",
    "end_idx = tot_len - (test_windows + 1) * pred_len - hist_len\n",
    "\n",
    "val_x = []\n",
    "val_y = []\n",
    "\n",
    "for i in range(start_idx, end_idx+1, pred_len):\n",
    "    sub_ts = ts_data[i:i+hist_len+pred_len]\n",
    "    sub_x = sub_ts[:hist_len]\n",
    "    sub_y = sub_ts[hist_len:, :, :1]\n",
    "    val_x.append(sub_x)\n",
    "    val_y.append(sub_y)\n",
    "\n",
    "val_x = np.array(val_x)\n",
    "val_y = np.array(val_y)\n",
    "\n",
    "print(val_x.shape)\n",
    "print(val_y.shape)\n",
    "\n",
    "np.savez_compressed(\n",
    "    data_path,\n",
    "    x=val_x,\n",
    "    y=val_y\n",
    ")"
   ]
  },
  {
   "cell_type": "code",
   "execution_count": 67,
   "metadata": {},
   "outputs": [
    {
     "output_type": "stream",
     "name": "stdout",
     "text": [
      "(5, 28, 3060, 1)\n(5, 7, 3060, 1)\n"
     ]
    }
   ],
   "source": [
    "data_path = f'../../DCRNN/data/{dataset}/test.npz'\n",
    "\n",
    "start_idx = tot_len - test_windows * pred_len - hist_len\n",
    "end_idx = tot_len - pred_len - hist_len\n",
    "test_x = []\n",
    "test_y = []\n",
    "\n",
    "for i in range(start_idx, end_idx+1, pred_len):\n",
    "    sub_ts = ts_data[i:i+hist_len+pred_len]\n",
    "    sub_x = sub_ts[:hist_len]\n",
    "    sub_y = sub_ts[hist_len:, :, :1]\n",
    "    test_x.append(sub_x)\n",
    "    test_y.append(sub_y)\n",
    "\n",
    "test_x = np.array(test_x)\n",
    "test_y = np.array(test_y)\n",
    "\n",
    "print(test_x.shape)\n",
    "print(test_y.shape)\n",
    "\n",
    "np.savez_compressed(\n",
    "    data_path,\n",
    "    x=test_x,\n",
    "    y=test_y\n",
    ")"
   ]
  }
 ]
}